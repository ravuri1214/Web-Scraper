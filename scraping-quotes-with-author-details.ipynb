{
 "cells": [
  {
   "cell_type": "code",
   "execution_count": 1,
   "id": "9ce424cd",
   "metadata": {
    "_cell_guid": "b1076dfc-b9ad-4769-8c92-a6c4dae69d19",
    "_uuid": "8f2839f25d086af736a60e9eeb907d3b93b6e0e5",
    "execution": {
     "iopub.execute_input": "2024-11-21T00:41:48.196811Z",
     "iopub.status.busy": "2024-11-21T00:41:48.196251Z",
     "iopub.status.idle": "2024-11-21T00:41:49.414899Z",
     "shell.execute_reply": "2024-11-21T00:41:49.413831Z"
    },
    "papermill": {
     "duration": 1.226368,
     "end_time": "2024-11-21T00:41:49.417295",
     "exception": false,
     "start_time": "2024-11-21T00:41:48.190927",
     "status": "completed"
    },
    "tags": []
   },
   "outputs": [],
   "source": [
    "import requests\n",
    "from bs4 import BeautifulSoup\n",
    "import pandas as pd"
   ]
  },
  {
   "cell_type": "code",
   "execution_count": 2,
   "id": "cefd2d63",
   "metadata": {
    "execution": {
     "iopub.execute_input": "2024-11-21T00:41:49.424967Z",
     "iopub.status.busy": "2024-11-21T00:41:49.424343Z",
     "iopub.status.idle": "2024-11-21T00:41:49.429945Z",
     "shell.execute_reply": "2024-11-21T00:41:49.428833Z"
    },
    "papermill": {
     "duration": 0.012525,
     "end_time": "2024-11-21T00:41:49.432894",
     "exception": false,
     "start_time": "2024-11-21T00:41:49.420369",
     "status": "completed"
    },
    "tags": []
   },
   "outputs": [],
   "source": [
    "link = 'https://quotes.toscrape.com/'"
   ]
  },
  {
   "cell_type": "code",
   "execution_count": 3,
   "id": "91148eb7",
   "metadata": {
    "execution": {
     "iopub.execute_input": "2024-11-21T00:41:49.440060Z",
     "iopub.status.busy": "2024-11-21T00:41:49.439663Z",
     "iopub.status.idle": "2024-11-21T00:41:49.776589Z",
     "shell.execute_reply": "2024-11-21T00:41:49.775363Z"
    },
    "papermill": {
     "duration": 0.343405,
     "end_time": "2024-11-21T00:41:49.779184",
     "exception": false,
     "start_time": "2024-11-21T00:41:49.435779",
     "status": "completed"
    },
    "tags": []
   },
   "outputs": [],
   "source": [
    "res = requests.get(link)"
   ]
  },
  {
   "cell_type": "code",
   "execution_count": 4,
   "id": "43d38599",
   "metadata": {
    "execution": {
     "iopub.execute_input": "2024-11-21T00:41:49.786446Z",
     "iopub.status.busy": "2024-11-21T00:41:49.786034Z",
     "iopub.status.idle": "2024-11-21T00:41:49.801587Z",
     "shell.execute_reply": "2024-11-21T00:41:49.800341Z"
    },
    "papermill": {
     "duration": 0.022125,
     "end_time": "2024-11-21T00:41:49.804168",
     "exception": false,
     "start_time": "2024-11-21T00:41:49.782043",
     "status": "completed"
    },
    "tags": []
   },
   "outputs": [],
   "source": [
    "soup = BeautifulSoup(res.text, 'html.parser')"
   ]
  },
  {
   "cell_type": "code",
   "execution_count": 5,
   "id": "d4fedc85",
   "metadata": {
    "execution": {
     "iopub.execute_input": "2024-11-21T00:41:49.810979Z",
     "iopub.status.busy": "2024-11-21T00:41:49.810579Z",
     "iopub.status.idle": "2024-11-21T00:41:49.816602Z",
     "shell.execute_reply": "2024-11-21T00:41:49.815565Z"
    },
    "papermill": {
     "duration": 0.011904,
     "end_time": "2024-11-21T00:41:49.818776",
     "exception": false,
     "start_time": "2024-11-21T00:41:49.806872",
     "status": "completed"
    },
    "tags": []
   },
   "outputs": [],
   "source": [
    "quotes = []\n",
    "for i in soup.find_all('span', class_ = 'text'):\n",
    "    quotes.append(i.text[1:-1])"
   ]
  },
  {
   "cell_type": "code",
   "execution_count": 6,
   "id": "ace319e8",
   "metadata": {
    "execution": {
     "iopub.execute_input": "2024-11-21T00:41:49.826009Z",
     "iopub.status.busy": "2024-11-21T00:41:49.825363Z",
     "iopub.status.idle": "2024-11-21T00:41:49.834751Z",
     "shell.execute_reply": "2024-11-21T00:41:49.833684Z"
    },
    "papermill": {
     "duration": 0.015325,
     "end_time": "2024-11-21T00:41:49.836934",
     "exception": false,
     "start_time": "2024-11-21T00:41:49.821609",
     "status": "completed"
    },
    "tags": []
   },
   "outputs": [],
   "source": [
    "data = []\n",
    "for sp in soup.find_all('div', class_ = 'quote'):\n",
    "    text      = sp.find('span', class_ = 'text').text[1:-1]\n",
    "    author    = sp.find('small', class_ = 'author').text\n",
    "    author_id = sp.find('a').get('href')\n",
    "    tags = []\n",
    "    for i in sp.find_all('a', class_ = 'tag'):\n",
    "        tags.append(i.text)\n",
    "    tags=', '.join(tags)\n",
    "    data.append([text, author, author_id, tags])\n"
   ]
  },
  {
   "cell_type": "code",
   "execution_count": 7,
   "id": "64b714a6",
   "metadata": {
    "execution": {
     "iopub.execute_input": "2024-11-21T00:41:49.843806Z",
     "iopub.status.busy": "2024-11-21T00:41:49.843441Z",
     "iopub.status.idle": "2024-11-21T00:41:49.851269Z",
     "shell.execute_reply": "2024-11-21T00:41:49.850166Z"
    },
    "papermill": {
     "duration": 0.013904,
     "end_time": "2024-11-21T00:41:49.853552",
     "exception": false,
     "start_time": "2024-11-21T00:41:49.839648",
     "status": "completed"
    },
    "tags": []
   },
   "outputs": [],
   "source": [
    "df = pd.DataFrame(data, columns = ['quote', 'author', 'author_id', 'tags'])"
   ]
  },
  {
   "cell_type": "code",
   "execution_count": 8,
   "id": "adf863d5",
   "metadata": {
    "execution": {
     "iopub.execute_input": "2024-11-21T00:41:49.860627Z",
     "iopub.status.busy": "2024-11-21T00:41:49.860220Z",
     "iopub.status.idle": "2024-11-21T00:41:49.881061Z",
     "shell.execute_reply": "2024-11-21T00:41:49.879976Z"
    },
    "papermill": {
     "duration": 0.027211,
     "end_time": "2024-11-21T00:41:49.883494",
     "exception": false,
     "start_time": "2024-11-21T00:41:49.856283",
     "status": "completed"
    },
    "tags": []
   },
   "outputs": [
    {
     "data": {
      "text/html": [
       "<div>\n",
       "<style scoped>\n",
       "    .dataframe tbody tr th:only-of-type {\n",
       "        vertical-align: middle;\n",
       "    }\n",
       "\n",
       "    .dataframe tbody tr th {\n",
       "        vertical-align: top;\n",
       "    }\n",
       "\n",
       "    .dataframe thead th {\n",
       "        text-align: right;\n",
       "    }\n",
       "</style>\n",
       "<table border=\"1\" class=\"dataframe\">\n",
       "  <thead>\n",
       "    <tr style=\"text-align: right;\">\n",
       "      <th></th>\n",
       "      <th>quote</th>\n",
       "      <th>author</th>\n",
       "      <th>author_id</th>\n",
       "      <th>tags</th>\n",
       "    </tr>\n",
       "  </thead>\n",
       "  <tbody>\n",
       "    <tr>\n",
       "      <th>0</th>\n",
       "      <td>The world as we have created it is a process o...</td>\n",
       "      <td>Albert Einstein</td>\n",
       "      <td>/author/Albert-Einstein</td>\n",
       "      <td>change, deep-thoughts, thinking, world</td>\n",
       "    </tr>\n",
       "    <tr>\n",
       "      <th>1</th>\n",
       "      <td>It is our choices, Harry, that show what we tr...</td>\n",
       "      <td>J.K. Rowling</td>\n",
       "      <td>/author/J-K-Rowling</td>\n",
       "      <td>abilities, choices</td>\n",
       "    </tr>\n",
       "    <tr>\n",
       "      <th>2</th>\n",
       "      <td>There are only two ways to live your life. One...</td>\n",
       "      <td>Albert Einstein</td>\n",
       "      <td>/author/Albert-Einstein</td>\n",
       "      <td>inspirational, life, live, miracle, miracles</td>\n",
       "    </tr>\n",
       "    <tr>\n",
       "      <th>3</th>\n",
       "      <td>The person, be it gentleman or lady, who has n...</td>\n",
       "      <td>Jane Austen</td>\n",
       "      <td>/author/Jane-Austen</td>\n",
       "      <td>aliteracy, books, classic, humor</td>\n",
       "    </tr>\n",
       "    <tr>\n",
       "      <th>4</th>\n",
       "      <td>Imperfection is beauty, madness is genius and ...</td>\n",
       "      <td>Marilyn Monroe</td>\n",
       "      <td>/author/Marilyn-Monroe</td>\n",
       "      <td>be-yourself, inspirational</td>\n",
       "    </tr>\n",
       "    <tr>\n",
       "      <th>5</th>\n",
       "      <td>Try not to become a man of success. Rather bec...</td>\n",
       "      <td>Albert Einstein</td>\n",
       "      <td>/author/Albert-Einstein</td>\n",
       "      <td>adulthood, success, value</td>\n",
       "    </tr>\n",
       "    <tr>\n",
       "      <th>6</th>\n",
       "      <td>It is better to be hated for what you are than...</td>\n",
       "      <td>André Gide</td>\n",
       "      <td>/author/Andre-Gide</td>\n",
       "      <td>life, love</td>\n",
       "    </tr>\n",
       "    <tr>\n",
       "      <th>7</th>\n",
       "      <td>I have not failed. I've just found 10,000 ways...</td>\n",
       "      <td>Thomas A. Edison</td>\n",
       "      <td>/author/Thomas-A-Edison</td>\n",
       "      <td>edison, failure, inspirational, paraphrased</td>\n",
       "    </tr>\n",
       "    <tr>\n",
       "      <th>8</th>\n",
       "      <td>A woman is like a tea bag; you never know how ...</td>\n",
       "      <td>Eleanor Roosevelt</td>\n",
       "      <td>/author/Eleanor-Roosevelt</td>\n",
       "      <td>misattributed-eleanor-roosevelt</td>\n",
       "    </tr>\n",
       "    <tr>\n",
       "      <th>9</th>\n",
       "      <td>A day without sunshine is like, you know, night.</td>\n",
       "      <td>Steve Martin</td>\n",
       "      <td>/author/Steve-Martin</td>\n",
       "      <td>humor, obvious, simile</td>\n",
       "    </tr>\n",
       "  </tbody>\n",
       "</table>\n",
       "</div>"
      ],
      "text/plain": [
       "                                               quote             author  \\\n",
       "0  The world as we have created it is a process o...    Albert Einstein   \n",
       "1  It is our choices, Harry, that show what we tr...       J.K. Rowling   \n",
       "2  There are only two ways to live your life. One...    Albert Einstein   \n",
       "3  The person, be it gentleman or lady, who has n...        Jane Austen   \n",
       "4  Imperfection is beauty, madness is genius and ...     Marilyn Monroe   \n",
       "5  Try not to become a man of success. Rather bec...    Albert Einstein   \n",
       "6  It is better to be hated for what you are than...         André Gide   \n",
       "7  I have not failed. I've just found 10,000 ways...   Thomas A. Edison   \n",
       "8  A woman is like a tea bag; you never know how ...  Eleanor Roosevelt   \n",
       "9   A day without sunshine is like, you know, night.       Steve Martin   \n",
       "\n",
       "                   author_id                                          tags  \n",
       "0    /author/Albert-Einstein        change, deep-thoughts, thinking, world  \n",
       "1        /author/J-K-Rowling                            abilities, choices  \n",
       "2    /author/Albert-Einstein  inspirational, life, live, miracle, miracles  \n",
       "3        /author/Jane-Austen              aliteracy, books, classic, humor  \n",
       "4     /author/Marilyn-Monroe                    be-yourself, inspirational  \n",
       "5    /author/Albert-Einstein                     adulthood, success, value  \n",
       "6         /author/Andre-Gide                                    life, love  \n",
       "7    /author/Thomas-A-Edison   edison, failure, inspirational, paraphrased  \n",
       "8  /author/Eleanor-Roosevelt               misattributed-eleanor-roosevelt  \n",
       "9       /author/Steve-Martin                        humor, obvious, simile  "
      ]
     },
     "execution_count": 8,
     "metadata": {},
     "output_type": "execute_result"
    }
   ],
   "source": [
    "df"
   ]
  },
  {
   "cell_type": "code",
   "execution_count": null,
   "id": "c17a54d5",
   "metadata": {
    "papermill": {
     "duration": 0.002691,
     "end_time": "2024-11-21T00:41:49.889256",
     "exception": false,
     "start_time": "2024-11-21T00:41:49.886565",
     "status": "completed"
    },
    "tags": []
   },
   "outputs": [],
   "source": []
  }
 ],
 "metadata": {
  "kaggle": {
   "accelerator": "none",
   "dataSources": [],
   "dockerImageVersionId": 30786,
   "isGpuEnabled": false,
   "isInternetEnabled": true,
   "language": "python",
   "sourceType": "notebook"
  },
  "kernelspec": {
   "display_name": "Python 3",
   "language": "python",
   "name": "python3"
  },
  "language_info": {
   "codemirror_mode": {
    "name": "ipython",
    "version": 3
   },
   "file_extension": ".py",
   "mimetype": "text/x-python",
   "name": "python",
   "nbconvert_exporter": "python",
   "pygments_lexer": "ipython3",
   "version": "3.10.14"
  },
  "papermill": {
   "default_parameters": {},
   "duration": 5.294554,
   "end_time": "2024-11-21T00:41:50.413466",
   "environment_variables": {},
   "exception": null,
   "input_path": "__notebook__.ipynb",
   "output_path": "__notebook__.ipynb",
   "parameters": {},
   "start_time": "2024-11-21T00:41:45.118912",
   "version": "2.6.0"
  }
 },
 "nbformat": 4,
 "nbformat_minor": 5
}
