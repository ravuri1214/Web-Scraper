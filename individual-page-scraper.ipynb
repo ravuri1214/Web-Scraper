{
 "cells": [
  {
   "cell_type": "code",
   "execution_count": 1,
   "id": "4aca530b",
   "metadata": {
    "_cell_guid": "b1076dfc-b9ad-4769-8c92-a6c4dae69d19",
    "_uuid": "8f2839f25d086af736a60e9eeb907d3b93b6e0e5",
    "execution": {
     "iopub.execute_input": "2024-11-22T00:14:06.373732Z",
     "iopub.status.busy": "2024-11-22T00:14:06.372653Z",
     "iopub.status.idle": "2024-11-22T00:14:07.529787Z",
     "shell.execute_reply": "2024-11-22T00:14:07.528915Z"
    },
    "papermill": {
     "duration": 1.164411,
     "end_time": "2024-11-22T00:14:07.532190",
     "exception": false,
     "start_time": "2024-11-22T00:14:06.367779",
     "status": "completed"
    },
    "tags": []
   },
   "outputs": [],
   "source": [
    "import pandas as pd\n",
    "from tqdm import tqdm\n",
    "import requests\n",
    "from bs4 import BeautifulSoup"
   ]
  },
  {
   "cell_type": "code",
   "execution_count": 2,
   "id": "5e3a7008",
   "metadata": {
    "execution": {
     "iopub.execute_input": "2024-11-22T00:14:07.539367Z",
     "iopub.status.busy": "2024-11-22T00:14:07.538566Z",
     "iopub.status.idle": "2024-11-22T00:14:07.568484Z",
     "shell.execute_reply": "2024-11-22T00:14:07.567420Z"
    },
    "papermill": {
     "duration": 0.03574,
     "end_time": "2024-11-22T00:14:07.570842",
     "exception": false,
     "start_time": "2024-11-22T00:14:07.535102",
     "status": "completed"
    },
    "tags": []
   },
   "outputs": [],
   "source": [
    "df = pd.read_csv('/kaggle/input/books-csv/books.csv')"
   ]
  },
  {
   "cell_type": "code",
   "execution_count": 3,
   "id": "2a8fdfe3",
   "metadata": {
    "execution": {
     "iopub.execute_input": "2024-11-22T00:14:07.577490Z",
     "iopub.status.busy": "2024-11-22T00:14:07.576813Z",
     "iopub.status.idle": "2024-11-22T00:14:07.598283Z",
     "shell.execute_reply": "2024-11-22T00:14:07.597325Z"
    },
    "papermill": {
     "duration": 0.027007,
     "end_time": "2024-11-22T00:14:07.600440",
     "exception": false,
     "start_time": "2024-11-22T00:14:07.573433",
     "status": "completed"
    },
    "tags": []
   },
   "outputs": [
    {
     "data": {
      "text/html": [
       "<div>\n",
       "<style scoped>\n",
       "    .dataframe tbody tr th:only-of-type {\n",
       "        vertical-align: middle;\n",
       "    }\n",
       "\n",
       "    .dataframe tbody tr th {\n",
       "        vertical-align: top;\n",
       "    }\n",
       "\n",
       "    .dataframe thead th {\n",
       "        text-align: right;\n",
       "    }\n",
       "</style>\n",
       "<table border=\"1\" class=\"dataframe\">\n",
       "  <thead>\n",
       "    <tr style=\"text-align: right;\">\n",
       "      <th></th>\n",
       "      <th>title</th>\n",
       "      <th>Rating</th>\n",
       "      <th>Price</th>\n",
       "      <th>Availability</th>\n",
       "      <th>book_link</th>\n",
       "      <th>img_link</th>\n",
       "    </tr>\n",
       "  </thead>\n",
       "  <tbody>\n",
       "    <tr>\n",
       "      <th>0</th>\n",
       "      <td>A Light in the Attic</td>\n",
       "      <td>Three</td>\n",
       "      <td>51.77</td>\n",
       "      <td>In stock</td>\n",
       "      <td>https://books.toscrape.com/catalogue/a-light-i...</td>\n",
       "      <td>https://books.toscrape.com/media/cache/2c/da/2...</td>\n",
       "    </tr>\n",
       "    <tr>\n",
       "      <th>1</th>\n",
       "      <td>Tipping the Velvet</td>\n",
       "      <td>One</td>\n",
       "      <td>53.74</td>\n",
       "      <td>In stock</td>\n",
       "      <td>https://books.toscrape.com/catalogue/tipping-t...</td>\n",
       "      <td>https://books.toscrape.com/media/cache/26/0c/2...</td>\n",
       "    </tr>\n",
       "    <tr>\n",
       "      <th>2</th>\n",
       "      <td>Soumission</td>\n",
       "      <td>One</td>\n",
       "      <td>50.10</td>\n",
       "      <td>In stock</td>\n",
       "      <td>https://books.toscrape.com/catalogue/soumissio...</td>\n",
       "      <td>https://books.toscrape.com/media/cache/3e/ef/3...</td>\n",
       "    </tr>\n",
       "    <tr>\n",
       "      <th>3</th>\n",
       "      <td>Sharp Objects</td>\n",
       "      <td>Four</td>\n",
       "      <td>47.82</td>\n",
       "      <td>In stock</td>\n",
       "      <td>https://books.toscrape.com/catalogue/sharp-obj...</td>\n",
       "      <td>https://books.toscrape.com/media/cache/32/51/3...</td>\n",
       "    </tr>\n",
       "    <tr>\n",
       "      <th>4</th>\n",
       "      <td>Sapiens: A Brief History of Humankind</td>\n",
       "      <td>Five</td>\n",
       "      <td>54.23</td>\n",
       "      <td>In stock</td>\n",
       "      <td>https://books.toscrape.com/catalogue/sapiens-a...</td>\n",
       "      <td>https://books.toscrape.com/media/cache/be/a5/b...</td>\n",
       "    </tr>\n",
       "  </tbody>\n",
       "</table>\n",
       "</div>"
      ],
      "text/plain": [
       "                                   title Rating  Price Availability  \\\n",
       "0                   A Light in the Attic  Three  51.77     In stock   \n",
       "1                     Tipping the Velvet    One  53.74     In stock   \n",
       "2                             Soumission    One  50.10     In stock   \n",
       "3                          Sharp Objects   Four  47.82     In stock   \n",
       "4  Sapiens: A Brief History of Humankind   Five  54.23     In stock   \n",
       "\n",
       "                                           book_link  \\\n",
       "0  https://books.toscrape.com/catalogue/a-light-i...   \n",
       "1  https://books.toscrape.com/catalogue/tipping-t...   \n",
       "2  https://books.toscrape.com/catalogue/soumissio...   \n",
       "3  https://books.toscrape.com/catalogue/sharp-obj...   \n",
       "4  https://books.toscrape.com/catalogue/sapiens-a...   \n",
       "\n",
       "                                            img_link  \n",
       "0  https://books.toscrape.com/media/cache/2c/da/2...  \n",
       "1  https://books.toscrape.com/media/cache/26/0c/2...  \n",
       "2  https://books.toscrape.com/media/cache/3e/ef/3...  \n",
       "3  https://books.toscrape.com/media/cache/32/51/3...  \n",
       "4  https://books.toscrape.com/media/cache/be/a5/b...  "
      ]
     },
     "execution_count": 3,
     "metadata": {},
     "output_type": "execute_result"
    }
   ],
   "source": [
    "df.head()"
   ]
  },
  {
   "cell_type": "code",
   "execution_count": 4,
   "id": "d8342527",
   "metadata": {
    "execution": {
     "iopub.execute_input": "2024-11-22T00:14:07.607333Z",
     "iopub.status.busy": "2024-11-22T00:14:07.606943Z",
     "iopub.status.idle": "2024-11-22T00:24:05.683079Z",
     "shell.execute_reply": "2024-11-22T00:24:05.681989Z"
    },
    "papermill": {
     "duration": 598.082388,
     "end_time": "2024-11-22T00:24:05.685559",
     "exception": false,
     "start_time": "2024-11-22T00:14:07.603171",
     "status": "completed"
    },
    "tags": []
   },
   "outputs": [
    {
     "name": "stderr",
     "output_type": "stream",
     "text": [
      "100%|██████████| 1000/1000 [09:58<00:00,  1.67it/s]\n"
     ]
    }
   ],
   "source": [
    "data = []\n",
    "\n",
    "for i in tqdm(df['book_link']):\n",
    "    res = requests.get(i)\n",
    "    soup = BeautifulSoup(res.text, 'html.parser')\n",
    "\n",
    "    Type        = soup.find('ul', class_ = 'breadcrumb').find_all('a')[2].text\n",
    "    Temp        = soup.find('table', class_ = 'table table-striped').find_all('td')\n",
    "    UPC         = Temp[0].text\n",
    "    price_b_tax = Temp[2].text\n",
    "    price_a_tax = Temp[3].text\n",
    "    tax         = Temp[4].text\n",
    "    Availability = Temp[5].text\n",
    "    Reviews  = Temp[6].text\n",
    "\n",
    "    data.append([Type, UPC, price_b_tax, price_a_tax, tax, Availability, Reviews])\n",
    "    "
   ]
  },
  {
   "cell_type": "code",
   "execution_count": 5,
   "id": "27ad331b",
   "metadata": {
    "execution": {
     "iopub.execute_input": "2024-11-22T00:24:05.795768Z",
     "iopub.status.busy": "2024-11-22T00:24:05.795411Z",
     "iopub.status.idle": "2024-11-22T00:24:05.802257Z",
     "shell.execute_reply": "2024-11-22T00:24:05.801331Z"
    },
    "papermill": {
     "duration": 0.063992,
     "end_time": "2024-11-22T00:24:05.804195",
     "exception": false,
     "start_time": "2024-11-22T00:24:05.740203",
     "status": "completed"
    },
    "tags": []
   },
   "outputs": [],
   "source": [
    "df = pd.DataFrame(data, columns = ['Type', 'UPC', 'price_b_tax', 'price_a_tax', 'tax', 'Availability', 'Reviews'])"
   ]
  },
  {
   "cell_type": "code",
   "execution_count": 6,
   "id": "393940e7",
   "metadata": {
    "execution": {
     "iopub.execute_input": "2024-11-22T00:24:05.913331Z",
     "iopub.status.busy": "2024-11-22T00:24:05.912943Z",
     "iopub.status.idle": "2024-11-22T00:24:05.924374Z",
     "shell.execute_reply": "2024-11-22T00:24:05.923474Z"
    },
    "papermill": {
     "duration": 0.067928,
     "end_time": "2024-11-22T00:24:05.926377",
     "exception": false,
     "start_time": "2024-11-22T00:24:05.858449",
     "status": "completed"
    },
    "tags": []
   },
   "outputs": [
    {
     "data": {
      "text/html": [
       "<div>\n",
       "<style scoped>\n",
       "    .dataframe tbody tr th:only-of-type {\n",
       "        vertical-align: middle;\n",
       "    }\n",
       "\n",
       "    .dataframe tbody tr th {\n",
       "        vertical-align: top;\n",
       "    }\n",
       "\n",
       "    .dataframe thead th {\n",
       "        text-align: right;\n",
       "    }\n",
       "</style>\n",
       "<table border=\"1\" class=\"dataframe\">\n",
       "  <thead>\n",
       "    <tr style=\"text-align: right;\">\n",
       "      <th></th>\n",
       "      <th>Type</th>\n",
       "      <th>UPC</th>\n",
       "      <th>price_b_tax</th>\n",
       "      <th>price_a_tax</th>\n",
       "      <th>tax</th>\n",
       "      <th>Availability</th>\n",
       "      <th>Reviews</th>\n",
       "    </tr>\n",
       "  </thead>\n",
       "  <tbody>\n",
       "    <tr>\n",
       "      <th>0</th>\n",
       "      <td>Poetry</td>\n",
       "      <td>a897fe39b1053632</td>\n",
       "      <td>Â£51.77</td>\n",
       "      <td>Â£51.77</td>\n",
       "      <td>Â£0.00</td>\n",
       "      <td>In stock (22 available)</td>\n",
       "      <td>0</td>\n",
       "    </tr>\n",
       "    <tr>\n",
       "      <th>1</th>\n",
       "      <td>Historical Fiction</td>\n",
       "      <td>90fa61229261140a</td>\n",
       "      <td>Â£53.74</td>\n",
       "      <td>Â£53.74</td>\n",
       "      <td>Â£0.00</td>\n",
       "      <td>In stock (20 available)</td>\n",
       "      <td>0</td>\n",
       "    </tr>\n",
       "    <tr>\n",
       "      <th>2</th>\n",
       "      <td>Fiction</td>\n",
       "      <td>6957f44c3847a760</td>\n",
       "      <td>Â£50.10</td>\n",
       "      <td>Â£50.10</td>\n",
       "      <td>Â£0.00</td>\n",
       "      <td>In stock (20 available)</td>\n",
       "      <td>0</td>\n",
       "    </tr>\n",
       "    <tr>\n",
       "      <th>3</th>\n",
       "      <td>Mystery</td>\n",
       "      <td>e00eb4fd7b871a48</td>\n",
       "      <td>Â£47.82</td>\n",
       "      <td>Â£47.82</td>\n",
       "      <td>Â£0.00</td>\n",
       "      <td>In stock (20 available)</td>\n",
       "      <td>0</td>\n",
       "    </tr>\n",
       "    <tr>\n",
       "      <th>4</th>\n",
       "      <td>History</td>\n",
       "      <td>4165285e1663650f</td>\n",
       "      <td>Â£54.23</td>\n",
       "      <td>Â£54.23</td>\n",
       "      <td>Â£0.00</td>\n",
       "      <td>In stock (20 available)</td>\n",
       "      <td>0</td>\n",
       "    </tr>\n",
       "  </tbody>\n",
       "</table>\n",
       "</div>"
      ],
      "text/plain": [
       "                 Type               UPC price_b_tax price_a_tax     tax  \\\n",
       "0              Poetry  a897fe39b1053632     Â£51.77     Â£51.77  Â£0.00   \n",
       "1  Historical Fiction  90fa61229261140a     Â£53.74     Â£53.74  Â£0.00   \n",
       "2             Fiction  6957f44c3847a760     Â£50.10     Â£50.10  Â£0.00   \n",
       "3             Mystery  e00eb4fd7b871a48     Â£47.82     Â£47.82  Â£0.00   \n",
       "4             History  4165285e1663650f     Â£54.23     Â£54.23  Â£0.00   \n",
       "\n",
       "              Availability Reviews  \n",
       "0  In stock (22 available)       0  \n",
       "1  In stock (20 available)       0  \n",
       "2  In stock (20 available)       0  \n",
       "3  In stock (20 available)       0  \n",
       "4  In stock (20 available)       0  "
      ]
     },
     "execution_count": 6,
     "metadata": {},
     "output_type": "execute_result"
    }
   ],
   "source": [
    "df.head()"
   ]
  },
  {
   "cell_type": "code",
   "execution_count": 7,
   "id": "a4398c2e",
   "metadata": {
    "execution": {
     "iopub.execute_input": "2024-11-22T00:24:06.085302Z",
     "iopub.status.busy": "2024-11-22T00:24:06.084497Z",
     "iopub.status.idle": "2024-11-22T00:24:06.102857Z",
     "shell.execute_reply": "2024-11-22T00:24:06.101595Z"
    },
    "papermill": {
     "duration": 0.123927,
     "end_time": "2024-11-22T00:24:06.105115",
     "exception": false,
     "start_time": "2024-11-22T00:24:05.981188",
     "status": "completed"
    },
    "tags": []
   },
   "outputs": [],
   "source": [
    "df.to_csv('data.csv', index = False)"
   ]
  },
  {
   "cell_type": "code",
   "execution_count": null,
   "id": "1ec0350c",
   "metadata": {
    "papermill": {
     "duration": 0.053391,
     "end_time": "2024-11-22T00:24:06.213920",
     "exception": false,
     "start_time": "2024-11-22T00:24:06.160529",
     "status": "completed"
    },
    "tags": []
   },
   "outputs": [],
   "source": []
  }
 ],
 "metadata": {
  "kaggle": {
   "accelerator": "none",
   "dataSources": [
    {
     "datasetId": 6138855,
     "sourceId": 9977112,
     "sourceType": "datasetVersion"
    }
   ],
   "dockerImageVersionId": 30786,
   "isGpuEnabled": false,
   "isInternetEnabled": true,
   "language": "python",
   "sourceType": "notebook"
  },
  "kernelspec": {
   "display_name": "Python 3",
   "language": "python",
   "name": "python3"
  },
  "language_info": {
   "codemirror_mode": {
    "name": "ipython",
    "version": 3
   },
   "file_extension": ".py",
   "mimetype": "text/x-python",
   "name": "python",
   "nbconvert_exporter": "python",
   "pygments_lexer": "ipython3",
   "version": "3.10.14"
  },
  "papermill": {
   "default_parameters": {},
   "duration": 602.990718,
   "end_time": "2024-11-22T00:24:06.788480",
   "environment_variables": {},
   "exception": null,
   "input_path": "__notebook__.ipynb",
   "output_path": "__notebook__.ipynb",
   "parameters": {},
   "start_time": "2024-11-22T00:14:03.797762",
   "version": "2.6.0"
  }
 },
 "nbformat": 4,
 "nbformat_minor": 5
}
