{
 "cells": [
  {
   "cell_type": "code",
   "execution_count": 1,
   "id": "562906ec",
   "metadata": {
    "_cell_guid": "b1076dfc-b9ad-4769-8c92-a6c4dae69d19",
    "_uuid": "8f2839f25d086af736a60e9eeb907d3b93b6e0e5",
    "execution": {
     "iopub.execute_input": "2024-11-21T03:35:26.018287Z",
     "iopub.status.busy": "2024-11-21T03:35:26.017335Z",
     "iopub.status.idle": "2024-11-21T03:35:27.155426Z",
     "shell.execute_reply": "2024-11-21T03:35:27.154216Z"
    },
    "papermill": {
     "duration": 1.145592,
     "end_time": "2024-11-21T03:35:27.158762",
     "exception": false,
     "start_time": "2024-11-21T03:35:26.013170",
     "status": "completed"
    },
    "tags": []
   },
   "outputs": [],
   "source": [
    "import requests\n",
    "import pandas as pd\n",
    "from bs4 import BeautifulSoup"
   ]
  },
  {
   "cell_type": "code",
   "execution_count": 2,
   "id": "93a0f863",
   "metadata": {
    "execution": {
     "iopub.execute_input": "2024-11-21T03:35:27.170431Z",
     "iopub.status.busy": "2024-11-21T03:35:27.169868Z",
     "iopub.status.idle": "2024-11-21T03:35:27.547504Z",
     "shell.execute_reply": "2024-11-21T03:35:27.546331Z"
    },
    "papermill": {
     "duration": 0.384952,
     "end_time": "2024-11-21T03:35:27.550037",
     "exception": false,
     "start_time": "2024-11-21T03:35:27.165085",
     "status": "completed"
    },
    "tags": []
   },
   "outputs": [],
   "source": [
    "res = requests.get('https://books.toscrape.com/catalogue/page-1.html')\n",
    "soup = BeautifulSoup(res.text, 'html.parser')"
   ]
  },
  {
   "cell_type": "code",
   "execution_count": 3,
   "id": "914fe73f",
   "metadata": {
    "execution": {
     "iopub.execute_input": "2024-11-21T03:35:27.556479Z",
     "iopub.status.busy": "2024-11-21T03:35:27.555437Z",
     "iopub.status.idle": "2024-11-21T03:35:27.574576Z",
     "shell.execute_reply": "2024-11-21T03:35:27.573412Z"
    },
    "papermill": {
     "duration": 0.024789,
     "end_time": "2024-11-21T03:35:27.576894",
     "exception": false,
     "start_time": "2024-11-21T03:35:27.552105",
     "status": "completed"
    },
    "tags": []
   },
   "outputs": [],
   "source": [
    "data = []\n",
    "for info in soup.find_all('li', class_ = \"col-xs-6 col-sm-4 col-md-3 col-lg-3\"):\n",
    "    \n",
    "    book_link = 'https://books.toscrape.com/catalogue/' + info.find('a').get('href')\n",
    "    img_link  = 'https://books.toscrape.com' + info.find('img').get('src')[2:] \n",
    "    book_title = info.find_all('a')[1].get('title')\n",
    "    book_Rating = info.find('p').get('class')[-1]\n",
    "    Price = info.find('p', class_ = 'price_color').text[1:]\n",
    "    availability = info.find('p', class_ = 'instock availability').text.strip()\n",
    "    data.append([book_title, book_Rating, Price, availability, book_link, img_link])\n",
    "     \n",
    "\n",
    "\n",
    "\n",
    "     "
   ]
  },
  {
   "cell_type": "code",
   "execution_count": 4,
   "id": "6d936596",
   "metadata": {
    "execution": {
     "iopub.execute_input": "2024-11-21T03:35:27.582500Z",
     "iopub.status.busy": "2024-11-21T03:35:27.582050Z",
     "iopub.status.idle": "2024-11-21T03:35:27.591035Z",
     "shell.execute_reply": "2024-11-21T03:35:27.589851Z"
    },
    "papermill": {
     "duration": 0.01404,
     "end_time": "2024-11-21T03:35:27.593023",
     "exception": false,
     "start_time": "2024-11-21T03:35:27.578983",
     "status": "completed"
    },
    "tags": []
   },
   "outputs": [
    {
     "data": {
      "text/plain": [
       "['A Light in the Attic',\n",
       " 'Three',\n",
       " '£51.77',\n",
       " 'In stock',\n",
       " 'https://books.toscrape.com/catalogue/a-light-in-the-attic_1000/index.html',\n",
       " 'https://books.toscrape.com/media/cache/2c/da/2cdad67c44b002e7ead0cc35693c0e8b.jpg']"
      ]
     },
     "execution_count": 4,
     "metadata": {},
     "output_type": "execute_result"
    }
   ],
   "source": [
    "data[0]"
   ]
  },
  {
   "cell_type": "code",
   "execution_count": null,
   "id": "f630a503",
   "metadata": {
    "papermill": {
     "duration": 0.001774,
     "end_time": "2024-11-21T03:35:27.596972",
     "exception": false,
     "start_time": "2024-11-21T03:35:27.595198",
     "status": "completed"
    },
    "tags": []
   },
   "outputs": [],
   "source": []
  }
 ],
 "metadata": {
  "kaggle": {
   "accelerator": "none",
   "dataSources": [],
   "dockerImageVersionId": 30786,
   "isGpuEnabled": false,
   "isInternetEnabled": true,
   "language": "python",
   "sourceType": "notebook"
  },
  "kernelspec": {
   "display_name": "Python 3",
   "language": "python",
   "name": "python3"
  },
  "language_info": {
   "codemirror_mode": {
    "name": "ipython",
    "version": 3
   },
   "file_extension": ".py",
   "mimetype": "text/x-python",
   "name": "python",
   "nbconvert_exporter": "python",
   "pygments_lexer": "ipython3",
   "version": "3.10.14"
  },
  "papermill": {
   "default_parameters": {},
   "duration": 4.740013,
   "end_time": "2024-11-21T03:35:28.120548",
   "environment_variables": {},
   "exception": null,
   "input_path": "__notebook__.ipynb",
   "output_path": "__notebook__.ipynb",
   "parameters": {},
   "start_time": "2024-11-21T03:35:23.380535",
   "version": "2.6.0"
  }
 },
 "nbformat": 4,
 "nbformat_minor": 5
}
