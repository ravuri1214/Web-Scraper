{
 "cells": [
  {
   "cell_type": "code",
   "execution_count": 1,
   "id": "f58e45ad",
   "metadata": {
    "_cell_guid": "b1076dfc-b9ad-4769-8c92-a6c4dae69d19",
    "_uuid": "8f2839f25d086af736a60e9eeb907d3b93b6e0e5",
    "execution": {
     "iopub.execute_input": "2024-11-22T23:35:57.548687Z",
     "iopub.status.busy": "2024-11-22T23:35:57.548270Z",
     "iopub.status.idle": "2024-11-22T23:35:57.812366Z",
     "shell.execute_reply": "2024-11-22T23:35:57.811545Z"
    },
    "papermill": {
     "duration": 0.271086,
     "end_time": "2024-11-22T23:35:57.814801",
     "exception": false,
     "start_time": "2024-11-22T23:35:57.543715",
     "status": "completed"
    },
    "tags": []
   },
   "outputs": [],
   "source": [
    "import requests\n",
    "from bs4 import BeautifulSoup"
   ]
  },
  {
   "cell_type": "code",
   "execution_count": 2,
   "id": "368f7a31",
   "metadata": {
    "execution": {
     "iopub.execute_input": "2024-11-22T23:35:57.821984Z",
     "iopub.status.busy": "2024-11-22T23:35:57.821108Z",
     "iopub.status.idle": "2024-11-22T23:35:59.132130Z",
     "shell.execute_reply": "2024-11-22T23:35:59.131009Z"
    },
    "papermill": {
     "duration": 1.317024,
     "end_time": "2024-11-22T23:35:59.134678",
     "exception": false,
     "start_time": "2024-11-22T23:35:57.817654",
     "status": "completed"
    },
    "tags": []
   },
   "outputs": [],
   "source": [
    "res = requests.get('https://en.wikipedia.org/wiki/Mahatma_Gandhi')\n",
    "soup = BeautifulSoup(res.text, 'html.parser')\n"
   ]
  },
  {
   "cell_type": "code",
   "execution_count": 3,
   "id": "e4346ebe",
   "metadata": {
    "execution": {
     "iopub.execute_input": "2024-11-22T23:35:59.141250Z",
     "iopub.status.busy": "2024-11-22T23:35:59.140461Z",
     "iopub.status.idle": "2024-11-22T23:35:59.147466Z",
     "shell.execute_reply": "2024-11-22T23:35:59.146540Z"
    },
    "papermill": {
     "duration": 0.012165,
     "end_time": "2024-11-22T23:35:59.149372",
     "exception": false,
     "start_time": "2024-11-22T23:35:59.137207",
     "status": "completed"
    },
    "tags": []
   },
   "outputs": [],
   "source": [
    "heading= soup.find('span', class_ = 'mw-page-title-main').text"
   ]
  },
  {
   "cell_type": "code",
   "execution_count": 4,
   "id": "cb9a12f0",
   "metadata": {
    "execution": {
     "iopub.execute_input": "2024-11-22T23:35:59.155225Z",
     "iopub.status.busy": "2024-11-22T23:35:59.154891Z",
     "iopub.status.idle": "2024-11-22T23:35:59.175926Z",
     "shell.execute_reply": "2024-11-22T23:35:59.174923Z"
    },
    "papermill": {
     "duration": 0.026187,
     "end_time": "2024-11-22T23:35:59.177917",
     "exception": false,
     "start_time": "2024-11-22T23:35:59.151730",
     "status": "completed"
    },
    "tags": []
   },
   "outputs": [],
   "source": [
    "corpus = ''\n",
    "for p in soup.find_all('p'):\n",
    "    corpus += p.text + '\\n'\n",
    "   \n",
    "\n",
    "corpus = corpus.strip()\n",
    "    "
   ]
  },
  {
   "cell_type": "code",
   "execution_count": 5,
   "id": "d40c043a",
   "metadata": {
    "execution": {
     "iopub.execute_input": "2024-11-22T23:35:59.183912Z",
     "iopub.status.busy": "2024-11-22T23:35:59.183574Z",
     "iopub.status.idle": "2024-11-22T23:35:59.209425Z",
     "shell.execute_reply": "2024-11-22T23:35:59.208665Z"
    },
    "papermill": {
     "duration": 0.03124,
     "end_time": "2024-11-22T23:35:59.211550",
     "exception": false,
     "start_time": "2024-11-22T23:35:59.180310",
     "status": "completed"
    },
    "tags": []
   },
   "outputs": [],
   "source": [
    "for i in range(3,467):\n",
    "    pattern = '[' + str(i) + ']'\n",
    "    corpus = corpus.replace(pattern, '')"
   ]
  },
  {
   "cell_type": "code",
   "execution_count": 6,
   "id": "73ef62b3",
   "metadata": {
    "execution": {
     "iopub.execute_input": "2024-11-22T23:35:59.217692Z",
     "iopub.status.busy": "2024-11-22T23:35:59.217041Z",
     "iopub.status.idle": "2024-11-22T23:35:59.221686Z",
     "shell.execute_reply": "2024-11-22T23:35:59.220882Z"
    },
    "papermill": {
     "duration": 0.009679,
     "end_time": "2024-11-22T23:35:59.223578",
     "exception": false,
     "start_time": "2024-11-22T23:35:59.213899",
     "status": "completed"
    },
    "tags": []
   },
   "outputs": [],
   "source": [
    "fd = open(heading + '.txt', 'w')\n",
    "fd.write(corpus)\n",
    "fd.close()"
   ]
  },
  {
   "cell_type": "code",
   "execution_count": null,
   "id": "38122060",
   "metadata": {
    "execution": {
     "iopub.execute_input": "2024-11-22T23:34:39.624946Z",
     "iopub.status.busy": "2024-11-22T23:34:39.624520Z",
     "iopub.status.idle": "2024-11-22T23:34:39.630880Z",
     "shell.execute_reply": "2024-11-22T23:34:39.629728Z",
     "shell.execute_reply.started": "2024-11-22T23:34:39.624910Z"
    },
    "papermill": {
     "duration": 0.002016,
     "end_time": "2024-11-22T23:35:59.227852",
     "exception": false,
     "start_time": "2024-11-22T23:35:59.225836",
     "status": "completed"
    },
    "tags": []
   },
   "outputs": [],
   "source": []
  },
  {
   "cell_type": "code",
   "execution_count": null,
   "id": "7d85d666",
   "metadata": {
    "papermill": {
     "duration": 0.001935,
     "end_time": "2024-11-22T23:35:59.231934",
     "exception": false,
     "start_time": "2024-11-22T23:35:59.229999",
     "status": "completed"
    },
    "tags": []
   },
   "outputs": [],
   "source": []
  }
 ],
 "metadata": {
  "kaggle": {
   "accelerator": "none",
   "dataSources": [],
   "dockerImageVersionId": 30786,
   "isGpuEnabled": false,
   "isInternetEnabled": true,
   "language": "python",
   "sourceType": "notebook"
  },
  "kernelspec": {
   "display_name": "Python 3",
   "language": "python",
   "name": "python3"
  },
  "language_info": {
   "codemirror_mode": {
    "name": "ipython",
    "version": 3
   },
   "file_extension": ".py",
   "mimetype": "text/x-python",
   "name": "python",
   "nbconvert_exporter": "python",
   "pygments_lexer": "ipython3",
   "version": "3.10.14"
  },
  "papermill": {
   "default_parameters": {},
   "duration": 5.027765,
   "end_time": "2024-11-22T23:35:59.652907",
   "environment_variables": {},
   "exception": null,
   "input_path": "__notebook__.ipynb",
   "output_path": "__notebook__.ipynb",
   "parameters": {},
   "start_time": "2024-11-22T23:35:54.625142",
   "version": "2.6.0"
  }
 },
 "nbformat": 4,
 "nbformat_minor": 5
}
