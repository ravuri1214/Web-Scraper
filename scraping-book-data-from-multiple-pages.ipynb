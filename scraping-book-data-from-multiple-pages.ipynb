{
 "cells": [
  {
   "cell_type": "code",
   "execution_count": 1,
   "id": "fe1a1fbb",
   "metadata": {
    "_cell_guid": "b1076dfc-b9ad-4769-8c92-a6c4dae69d19",
    "_uuid": "8f2839f25d086af736a60e9eeb907d3b93b6e0e5",
    "execution": {
     "iopub.execute_input": "2024-11-21T22:29:24.918102Z",
     "iopub.status.busy": "2024-11-21T22:29:24.917388Z",
     "iopub.status.idle": "2024-11-21T22:29:26.501197Z",
     "shell.execute_reply": "2024-11-21T22:29:26.500209Z"
    },
    "papermill": {
     "duration": 1.59132,
     "end_time": "2024-11-21T22:29:26.503529",
     "exception": false,
     "start_time": "2024-11-21T22:29:24.912209",
     "status": "completed"
    },
    "tags": []
   },
   "outputs": [],
   "source": [
    "import requests\n",
    "from bs4 import BeautifulSoup\n",
    "import pandas as pd\n"
   ]
  },
  {
   "cell_type": "code",
   "execution_count": 2,
   "id": "e9f8d196",
   "metadata": {
    "execution": {
     "iopub.execute_input": "2024-11-21T22:29:26.510504Z",
     "iopub.status.busy": "2024-11-21T22:29:26.509980Z",
     "iopub.status.idle": "2024-11-21T22:29:30.273418Z",
     "shell.execute_reply": "2024-11-21T22:29:30.272117Z"
    },
    "papermill": {
     "duration": 3.769574,
     "end_time": "2024-11-21T22:29:30.275879",
     "exception": false,
     "start_time": "2024-11-21T22:29:26.506305",
     "status": "completed"
    },
    "tags": []
   },
   "outputs": [],
   "source": [
    "data = []\n",
    "\n",
    "for i in range(1,51):\n",
    "    links = 'https://books.toscrape.com/catalogue/page-'+ str(i) + '.html'\n",
    "    res = requests.get(links)\n",
    "    soup = BeautifulSoup(res.text, 'html.parser')\n",
    "    for sp in soup.find_all('li', class_= 'col-xs-6 col-sm-4 col-md-3 col-lg-3'):\n",
    "    \n",
    "        img_link   = 'https://books.toscrape.com/' + sp.find('img').get('src')[3:]\n",
    "        book_link  = 'https://books.toscrape.com/catalogue/' + sp.find_all('a')[-1].get('href')\n",
    "        title      = sp.find_all('a')[-1].get('title')\n",
    "        rating     = sp.find('p').get('class')[-1]\n",
    "        price      = sp.find('p',class_ = 'price_color').text[2:]\n",
    "        stock      = sp.find('p', class_ = 'instock availability').text.strip()\n",
    "\n",
    "        data.append([title, rating, price, stock, book_link, img_link])"
   ]
  },
  {
   "cell_type": "code",
   "execution_count": 3,
   "id": "f03441de",
   "metadata": {
    "execution": {
     "iopub.execute_input": "2024-11-21T22:29:30.282967Z",
     "iopub.status.busy": "2024-11-21T22:29:30.282559Z",
     "iopub.status.idle": "2024-11-21T22:29:30.291127Z",
     "shell.execute_reply": "2024-11-21T22:29:30.289812Z"
    },
    "papermill": {
     "duration": 0.014929,
     "end_time": "2024-11-21T22:29:30.293416",
     "exception": false,
     "start_time": "2024-11-21T22:29:30.278487",
     "status": "completed"
    },
    "tags": []
   },
   "outputs": [
    {
     "data": {
      "text/plain": [
       "['Unbound: How Eight Technologies Made Us Human, Transformed Society, and Brought Our World to the Brink',\n",
       " 'One',\n",
       " '25.52',\n",
       " 'In stock',\n",
       " 'https://books.toscrape.com/catalogue/unbound-how-eight-technologies-made-us-human-transformed-society-and-brought-our-world-to-the-brink_950/index.html',\n",
       " 'https://books.toscrape.com/media/cache/4a/3b/4a3b055f9e378a95fedbef55e7bab7ce.jpg']"
      ]
     },
     "execution_count": 3,
     "metadata": {},
     "output_type": "execute_result"
    }
   ],
   "source": [
    "data[50]"
   ]
  },
  {
   "cell_type": "code",
   "execution_count": 4,
   "id": "5c87abe0",
   "metadata": {
    "execution": {
     "iopub.execute_input": "2024-11-21T22:29:30.301079Z",
     "iopub.status.busy": "2024-11-21T22:29:30.299975Z",
     "iopub.status.idle": "2024-11-21T22:29:30.311145Z",
     "shell.execute_reply": "2024-11-21T22:29:30.310022Z"
    },
    "papermill": {
     "duration": 0.017661,
     "end_time": "2024-11-21T22:29:30.313738",
     "exception": false,
     "start_time": "2024-11-21T22:29:30.296077",
     "status": "completed"
    },
    "tags": []
   },
   "outputs": [],
   "source": [
    "df = pd.DataFrame(data, columns = ['title', 'Rating', 'Price', 'Availability', 'book_link', 'img_link'])"
   ]
  },
  {
   "cell_type": "code",
   "execution_count": 5,
   "id": "9780fca8",
   "metadata": {
    "execution": {
     "iopub.execute_input": "2024-11-21T22:29:30.322287Z",
     "iopub.status.busy": "2024-11-21T22:29:30.320794Z",
     "iopub.status.idle": "2024-11-21T22:29:30.342460Z",
     "shell.execute_reply": "2024-11-21T22:29:30.341399Z"
    },
    "papermill": {
     "duration": 0.028425,
     "end_time": "2024-11-21T22:29:30.344863",
     "exception": false,
     "start_time": "2024-11-21T22:29:30.316438",
     "status": "completed"
    },
    "tags": []
   },
   "outputs": [],
   "source": [
    "df.to_csv('books.csv', index = False)"
   ]
  },
  {
   "cell_type": "code",
   "execution_count": 6,
   "id": "ccf88746",
   "metadata": {
    "execution": {
     "iopub.execute_input": "2024-11-21T22:29:30.351529Z",
     "iopub.status.busy": "2024-11-21T22:29:30.351165Z",
     "iopub.status.idle": "2024-11-21T22:29:30.383321Z",
     "shell.execute_reply": "2024-11-21T22:29:30.381448Z"
    },
    "papermill": {
     "duration": 0.038881,
     "end_time": "2024-11-21T22:29:30.386360",
     "exception": false,
     "start_time": "2024-11-21T22:29:30.347479",
     "status": "completed"
    },
    "tags": []
   },
   "outputs": [
    {
     "data": {
      "text/html": [
       "<div>\n",
       "<style scoped>\n",
       "    .dataframe tbody tr th:only-of-type {\n",
       "        vertical-align: middle;\n",
       "    }\n",
       "\n",
       "    .dataframe tbody tr th {\n",
       "        vertical-align: top;\n",
       "    }\n",
       "\n",
       "    .dataframe thead th {\n",
       "        text-align: right;\n",
       "    }\n",
       "</style>\n",
       "<table border=\"1\" class=\"dataframe\">\n",
       "  <thead>\n",
       "    <tr style=\"text-align: right;\">\n",
       "      <th></th>\n",
       "      <th>title</th>\n",
       "      <th>Rating</th>\n",
       "      <th>Price</th>\n",
       "      <th>Availability</th>\n",
       "      <th>book_link</th>\n",
       "      <th>img_link</th>\n",
       "    </tr>\n",
       "  </thead>\n",
       "  <tbody>\n",
       "    <tr>\n",
       "      <th>0</th>\n",
       "      <td>A Light in the Attic</td>\n",
       "      <td>Three</td>\n",
       "      <td>51.77</td>\n",
       "      <td>In stock</td>\n",
       "      <td>https://books.toscrape.com/catalogue/a-light-i...</td>\n",
       "      <td>https://books.toscrape.com/media/cache/2c/da/2...</td>\n",
       "    </tr>\n",
       "    <tr>\n",
       "      <th>1</th>\n",
       "      <td>Tipping the Velvet</td>\n",
       "      <td>One</td>\n",
       "      <td>53.74</td>\n",
       "      <td>In stock</td>\n",
       "      <td>https://books.toscrape.com/catalogue/tipping-t...</td>\n",
       "      <td>https://books.toscrape.com/media/cache/26/0c/2...</td>\n",
       "    </tr>\n",
       "    <tr>\n",
       "      <th>2</th>\n",
       "      <td>Soumission</td>\n",
       "      <td>One</td>\n",
       "      <td>50.10</td>\n",
       "      <td>In stock</td>\n",
       "      <td>https://books.toscrape.com/catalogue/soumissio...</td>\n",
       "      <td>https://books.toscrape.com/media/cache/3e/ef/3...</td>\n",
       "    </tr>\n",
       "    <tr>\n",
       "      <th>3</th>\n",
       "      <td>Sharp Objects</td>\n",
       "      <td>Four</td>\n",
       "      <td>47.82</td>\n",
       "      <td>In stock</td>\n",
       "      <td>https://books.toscrape.com/catalogue/sharp-obj...</td>\n",
       "      <td>https://books.toscrape.com/media/cache/32/51/3...</td>\n",
       "    </tr>\n",
       "    <tr>\n",
       "      <th>4</th>\n",
       "      <td>Sapiens: A Brief History of Humankind</td>\n",
       "      <td>Five</td>\n",
       "      <td>54.23</td>\n",
       "      <td>In stock</td>\n",
       "      <td>https://books.toscrape.com/catalogue/sapiens-a...</td>\n",
       "      <td>https://books.toscrape.com/media/cache/be/a5/b...</td>\n",
       "    </tr>\n",
       "    <tr>\n",
       "      <th>...</th>\n",
       "      <td>...</td>\n",
       "      <td>...</td>\n",
       "      <td>...</td>\n",
       "      <td>...</td>\n",
       "      <td>...</td>\n",
       "      <td>...</td>\n",
       "    </tr>\n",
       "    <tr>\n",
       "      <th>995</th>\n",
       "      <td>Alice in Wonderland (Alice's Adventures in Won...</td>\n",
       "      <td>One</td>\n",
       "      <td>55.53</td>\n",
       "      <td>In stock</td>\n",
       "      <td>https://books.toscrape.com/catalogue/alice-in-...</td>\n",
       "      <td>https://books.toscrape.com/media/cache/96/ee/9...</td>\n",
       "    </tr>\n",
       "    <tr>\n",
       "      <th>996</th>\n",
       "      <td>Ajin: Demi-Human, Volume 1 (Ajin: Demi-Human #1)</td>\n",
       "      <td>Four</td>\n",
       "      <td>57.06</td>\n",
       "      <td>In stock</td>\n",
       "      <td>https://books.toscrape.com/catalogue/ajin-demi...</td>\n",
       "      <td>https://books.toscrape.com/media/cache/09/7c/0...</td>\n",
       "    </tr>\n",
       "    <tr>\n",
       "      <th>997</th>\n",
       "      <td>A Spy's Devotion (The Regency Spies of London #1)</td>\n",
       "      <td>Five</td>\n",
       "      <td>16.97</td>\n",
       "      <td>In stock</td>\n",
       "      <td>https://books.toscrape.com/catalogue/a-spys-de...</td>\n",
       "      <td>https://books.toscrape.com/media/cache/1b/5f/1...</td>\n",
       "    </tr>\n",
       "    <tr>\n",
       "      <th>998</th>\n",
       "      <td>1st to Die (Women's Murder Club #1)</td>\n",
       "      <td>One</td>\n",
       "      <td>53.98</td>\n",
       "      <td>In stock</td>\n",
       "      <td>https://books.toscrape.com/catalogue/1st-to-di...</td>\n",
       "      <td>https://books.toscrape.com/media/cache/2b/41/2...</td>\n",
       "    </tr>\n",
       "    <tr>\n",
       "      <th>999</th>\n",
       "      <td>1,000 Places to See Before You Die</td>\n",
       "      <td>Five</td>\n",
       "      <td>26.08</td>\n",
       "      <td>In stock</td>\n",
       "      <td>https://books.toscrape.com/catalogue/1000-plac...</td>\n",
       "      <td>https://books.toscrape.com/media/cache/d7/0f/d...</td>\n",
       "    </tr>\n",
       "  </tbody>\n",
       "</table>\n",
       "<p>1000 rows × 6 columns</p>\n",
       "</div>"
      ],
      "text/plain": [
       "                                                 title Rating  Price  \\\n",
       "0                                 A Light in the Attic  Three  51.77   \n",
       "1                                   Tipping the Velvet    One  53.74   \n",
       "2                                           Soumission    One  50.10   \n",
       "3                                        Sharp Objects   Four  47.82   \n",
       "4                Sapiens: A Brief History of Humankind   Five  54.23   \n",
       "..                                                 ...    ...    ...   \n",
       "995  Alice in Wonderland (Alice's Adventures in Won...    One  55.53   \n",
       "996   Ajin: Demi-Human, Volume 1 (Ajin: Demi-Human #1)   Four  57.06   \n",
       "997  A Spy's Devotion (The Regency Spies of London #1)   Five  16.97   \n",
       "998                1st to Die (Women's Murder Club #1)    One  53.98   \n",
       "999                 1,000 Places to See Before You Die   Five  26.08   \n",
       "\n",
       "    Availability                                          book_link  \\\n",
       "0       In stock  https://books.toscrape.com/catalogue/a-light-i...   \n",
       "1       In stock  https://books.toscrape.com/catalogue/tipping-t...   \n",
       "2       In stock  https://books.toscrape.com/catalogue/soumissio...   \n",
       "3       In stock  https://books.toscrape.com/catalogue/sharp-obj...   \n",
       "4       In stock  https://books.toscrape.com/catalogue/sapiens-a...   \n",
       "..           ...                                                ...   \n",
       "995     In stock  https://books.toscrape.com/catalogue/alice-in-...   \n",
       "996     In stock  https://books.toscrape.com/catalogue/ajin-demi...   \n",
       "997     In stock  https://books.toscrape.com/catalogue/a-spys-de...   \n",
       "998     In stock  https://books.toscrape.com/catalogue/1st-to-di...   \n",
       "999     In stock  https://books.toscrape.com/catalogue/1000-plac...   \n",
       "\n",
       "                                              img_link  \n",
       "0    https://books.toscrape.com/media/cache/2c/da/2...  \n",
       "1    https://books.toscrape.com/media/cache/26/0c/2...  \n",
       "2    https://books.toscrape.com/media/cache/3e/ef/3...  \n",
       "3    https://books.toscrape.com/media/cache/32/51/3...  \n",
       "4    https://books.toscrape.com/media/cache/be/a5/b...  \n",
       "..                                                 ...  \n",
       "995  https://books.toscrape.com/media/cache/96/ee/9...  \n",
       "996  https://books.toscrape.com/media/cache/09/7c/0...  \n",
       "997  https://books.toscrape.com/media/cache/1b/5f/1...  \n",
       "998  https://books.toscrape.com/media/cache/2b/41/2...  \n",
       "999  https://books.toscrape.com/media/cache/d7/0f/d...  \n",
       "\n",
       "[1000 rows x 6 columns]"
      ]
     },
     "execution_count": 6,
     "metadata": {},
     "output_type": "execute_result"
    }
   ],
   "source": [
    "df"
   ]
  },
  {
   "cell_type": "code",
   "execution_count": null,
   "id": "a2c4e7cb",
   "metadata": {
    "papermill": {
     "duration": 0.00269,
     "end_time": "2024-11-21T22:29:30.392131",
     "exception": false,
     "start_time": "2024-11-21T22:29:30.389441",
     "status": "completed"
    },
    "tags": []
   },
   "outputs": [],
   "source": []
  }
 ],
 "metadata": {
  "kaggle": {
   "accelerator": "none",
   "dataSources": [],
   "dockerImageVersionId": 30786,
   "isGpuEnabled": false,
   "isInternetEnabled": true,
   "language": "python",
   "sourceType": "notebook"
  },
  "kernelspec": {
   "display_name": "Python 3",
   "language": "python",
   "name": "python3"
  },
  "language_info": {
   "codemirror_mode": {
    "name": "ipython",
    "version": 3
   },
   "file_extension": ".py",
   "mimetype": "text/x-python",
   "name": "python",
   "nbconvert_exporter": "python",
   "pygments_lexer": "ipython3",
   "version": "3.10.14"
  },
  "papermill": {
   "default_parameters": {},
   "duration": 9.334407,
   "end_time": "2024-11-21T22:29:31.018626",
   "environment_variables": {},
   "exception": null,
   "input_path": "__notebook__.ipynb",
   "output_path": "__notebook__.ipynb",
   "parameters": {},
   "start_time": "2024-11-21T22:29:21.684219",
   "version": "2.6.0"
  }
 },
 "nbformat": 4,
 "nbformat_minor": 5
}
