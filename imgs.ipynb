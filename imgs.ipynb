{
 "cells": [
  {
   "cell_type": "code",
   "execution_count": 5,
   "id": "b1e6b8ba-aafa-4ddf-88e1-7e33a9e824fd",
   "metadata": {},
   "outputs": [],
   "source": [
    "import pandas as pd\n",
    "import requests\n",
    "from tqdm import tqdm"
   ]
  },
  {
   "cell_type": "code",
   "execution_count": 7,
   "id": "8f65d356-01ff-4697-8b31-76ff8f73fdc4",
   "metadata": {},
   "outputs": [],
   "source": [
    "df = pd.read_csv('imgdata.csv')"
   ]
  },
  {
   "cell_type": "code",
   "execution_count": 9,
   "id": "b894667f-c586-43a2-9586-8eea021970a5",
   "metadata": {},
   "outputs": [
    {
     "data": {
      "text/html": [
       "<div>\n",
       "<style scoped>\n",
       "    .dataframe tbody tr th:only-of-type {\n",
       "        vertical-align: middle;\n",
       "    }\n",
       "\n",
       "    .dataframe tbody tr th {\n",
       "        vertical-align: top;\n",
       "    }\n",
       "\n",
       "    .dataframe thead th {\n",
       "        text-align: right;\n",
       "    }\n",
       "</style>\n",
       "<table border=\"1\" class=\"dataframe\">\n",
       "  <thead>\n",
       "    <tr style=\"text-align: right;\">\n",
       "      <th></th>\n",
       "      <th>link</th>\n",
       "      <th>tags</th>\n",
       "      <th>likes</th>\n",
       "      <th>comments</th>\n",
       "    </tr>\n",
       "  </thead>\n",
       "  <tbody>\n",
       "    <tr>\n",
       "      <th>0</th>\n",
       "      <td>https://cdn.pixabay.com/photo/2022/03/06/05/30...</td>\n",
       "      <td>Clouds  Sky  Atmosphere  Blue Sky</td>\n",
       "      <td>196</td>\n",
       "      <td>55</td>\n",
       "    </tr>\n",
       "    <tr>\n",
       "      <th>1</th>\n",
       "      <td>https://cdn.pixabay.com/photo/2022/04/07/11/45...</td>\n",
       "      <td>Bird  Ornithology  Hummingbird</td>\n",
       "      <td>76</td>\n",
       "      <td>20</td>\n",
       "    </tr>\n",
       "    <tr>\n",
       "      <th>2</th>\n",
       "      <td>https://cdn.pixabay.com/photo/2022/02/28/15/28...</td>\n",
       "      <td>Sea  Rainbow  Rainfall  Subtropical</td>\n",
       "      <td>282</td>\n",
       "      <td>106</td>\n",
       "    </tr>\n",
       "    <tr>\n",
       "      <th>3</th>\n",
       "      <td>https://cdn.pixabay.com/photo/2022/04/04/02/52...</td>\n",
       "      <td>Cherry Blossoms  Road  Japan  Sakura</td>\n",
       "      <td>42</td>\n",
       "      <td>11</td>\n",
       "    </tr>\n",
       "    <tr>\n",
       "      <th>4</th>\n",
       "      <td>https://cdn.pixabay.com/photo/2022/04/09/18/06...</td>\n",
       "      <td>Cape Marguerite  Flower  Plant</td>\n",
       "      <td>39</td>\n",
       "      <td>15</td>\n",
       "    </tr>\n",
       "  </tbody>\n",
       "</table>\n",
       "</div>"
      ],
      "text/plain": [
       "                                                link  \\\n",
       "0  https://cdn.pixabay.com/photo/2022/03/06/05/30...   \n",
       "1  https://cdn.pixabay.com/photo/2022/04/07/11/45...   \n",
       "2  https://cdn.pixabay.com/photo/2022/02/28/15/28...   \n",
       "3  https://cdn.pixabay.com/photo/2022/04/04/02/52...   \n",
       "4  https://cdn.pixabay.com/photo/2022/04/09/18/06...   \n",
       "\n",
       "                                   tags  likes  comments  \n",
       "0     Clouds  Sky  Atmosphere  Blue Sky    196        55  \n",
       "1        Bird  Ornithology  Hummingbird     76        20  \n",
       "2   Sea  Rainbow  Rainfall  Subtropical    282       106  \n",
       "3  Cherry Blossoms  Road  Japan  Sakura     42        11  \n",
       "4        Cape Marguerite  Flower  Plant     39        15  "
      ]
     },
     "execution_count": 9,
     "metadata": {},
     "output_type": "execute_result"
    }
   ],
   "source": [
    "df.head()"
   ]
  },
  {
   "cell_type": "code",
   "execution_count": 11,
   "id": "b97e8943-506b-4be8-84cd-b42d8672b02c",
   "metadata": {},
   "outputs": [
    {
     "data": {
      "text/plain": [
       "0      https://cdn.pixabay.com/photo/2022/03/06/05/30...\n",
       "1      https://cdn.pixabay.com/photo/2022/04/07/11/45...\n",
       "2      https://cdn.pixabay.com/photo/2022/02/28/15/28...\n",
       "3      https://cdn.pixabay.com/photo/2022/04/04/02/52...\n",
       "4      https://cdn.pixabay.com/photo/2022/04/09/18/06...\n",
       "                             ...                        \n",
       "238    https://cdn.pixabay.com/photo/2022/04/03/12/45...\n",
       "239    https://cdn.pixabay.com/photo/2021/11/17/17/03...\n",
       "240    https://cdn.pixabay.com/photo/2022/02/07/15/22...\n",
       "241    https://cdn.pixabay.com/photo/2022/04/09/16/46...\n",
       "242    https://cdn.pixabay.com/photo/2022/03/20/10/50...\n",
       "Name: link, Length: 243, dtype: object"
      ]
     },
     "execution_count": 11,
     "metadata": {},
     "output_type": "execute_result"
    }
   ],
   "source": [
    "df['link']"
   ]
  },
  {
   "cell_type": "code",
   "execution_count": 29,
   "id": "8a31c541-4909-43a9-8a1a-1cdb8320d3b0",
   "metadata": {},
   "outputs": [],
   "source": [
    "\n",
    "\n",
    "path = []\n",
    "for i in df['link']:\n",
    "    \n",
    "    res = requests.get(i)\n",
    "    fd = open(r'C:\\Users\\yamin\\Documents\\img/'+ i.split('/')[-1], 'wb')\n",
    "    fd.write(res.content)\n",
    "    fd.close()\n",
    "    path.append(i.split('/')[-1])"
   ]
  },
  {
   "cell_type": "code",
   "execution_count": 33,
   "id": "bcc98f44-28c2-4776-877b-4558b72b0fb8",
   "metadata": {},
   "outputs": [],
   "source": [
    "df['path'] = path"
   ]
  },
  {
   "cell_type": "code",
   "execution_count": 39,
   "id": "b1a3b168-5ccb-4033-9fd2-ba0301c99f10",
   "metadata": {},
   "outputs": [],
   "source": [
    "df.to_csv('img.csv')"
   ]
  },
  {
   "cell_type": "code",
   "execution_count": null,
   "id": "ad39147f-7269-4c9e-b927-d6dcc4b4a5a6",
   "metadata": {},
   "outputs": [],
   "source": []
  }
 ],
 "metadata": {
  "kernelspec": {
   "display_name": "Python 3 (ipykernel)",
   "language": "python",
   "name": "python3"
  },
  "language_info": {
   "codemirror_mode": {
    "name": "ipython",
    "version": 3
   },
   "file_extension": ".py",
   "mimetype": "text/x-python",
   "name": "python",
   "nbconvert_exporter": "python",
   "pygments_lexer": "ipython3",
   "version": "3.12.4"
  }
 },
 "nbformat": 4,
 "nbformat_minor": 5
}
